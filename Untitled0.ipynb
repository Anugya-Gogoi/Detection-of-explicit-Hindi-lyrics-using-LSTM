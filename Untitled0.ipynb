{
  "cells": [
    {
      "cell_type": "code",
      "execution_count": null,
      "metadata": {
        "id": "9u_T3bARIQMU"
      },
      "outputs": [],
      "source": [
        "# Importing necessary libraries\n",
        "import pandas as pd\n",
        "import numpy as np\n",
        "import re\n",
        "import string\n",
        "import keras\n",
        "from keras.preprocessing.text import Tokenizer\n",
        "from tensorflow.keras.preprocessing.sequence import pad_sequences\n",
        "from keras.models import Sequential\n",
        "from keras.layers import Dense, Embedding, LSTM\n",
        "from sklearn.metrics import accuracy_score, f1_score, precision_score, recall_score\n",
        "import matplotlib.pyplot as plt\n"
      ]
    },
    {
      "cell_type": "code",
      "execution_count": null,
      "metadata": {
        "id": "pJJVu9mUP43b"
      },
      "outputs": [],
      "source": [
        "import csv\n",
        "from google.colab import files"
      ]
    },
    {
      "cell_type": "code",
      "execution_count": null,
      "metadata": {
        "colab": {
          "base_uri": "https://localhost:8080/",
          "height": 72
        },
        "id": "jInYWL2dnNnv",
        "outputId": "3bb49df1-bd88-4591-c3de-c5686b7143dd"
      },
      "outputs": [
        {
          "output_type": "display_data",
          "data": {
            "text/plain": [
              "<IPython.core.display.HTML object>"
            ],
            "text/html": [
              "\n",
              "     <input type=\"file\" id=\"files-70a6b7c5-5102-4bbb-8792-e0fe2ed710a0\" name=\"files[]\" multiple disabled\n",
              "        style=\"border:none\" />\n",
              "     <output id=\"result-70a6b7c5-5102-4bbb-8792-e0fe2ed710a0\">\n",
              "      Upload widget is only available when the cell has been executed in the\n",
              "      current browser session. Please rerun this cell to enable.\n",
              "      </output>\n",
              "      <script>// Copyright 2017 Google LLC\n",
              "//\n",
              "// Licensed under the Apache License, Version 2.0 (the \"License\");\n",
              "// you may not use this file except in compliance with the License.\n",
              "// You may obtain a copy of the License at\n",
              "//\n",
              "//      http://www.apache.org/licenses/LICENSE-2.0\n",
              "//\n",
              "// Unless required by applicable law or agreed to in writing, software\n",
              "// distributed under the License is distributed on an \"AS IS\" BASIS,\n",
              "// WITHOUT WARRANTIES OR CONDITIONS OF ANY KIND, either express or implied.\n",
              "// See the License for the specific language governing permissions and\n",
              "// limitations under the License.\n",
              "\n",
              "/**\n",
              " * @fileoverview Helpers for google.colab Python module.\n",
              " */\n",
              "(function(scope) {\n",
              "function span(text, styleAttributes = {}) {\n",
              "  const element = document.createElement('span');\n",
              "  element.textContent = text;\n",
              "  for (const key of Object.keys(styleAttributes)) {\n",
              "    element.style[key] = styleAttributes[key];\n",
              "  }\n",
              "  return element;\n",
              "}\n",
              "\n",
              "// Max number of bytes which will be uploaded at a time.\n",
              "const MAX_PAYLOAD_SIZE = 100 * 1024;\n",
              "\n",
              "function _uploadFiles(inputId, outputId) {\n",
              "  const steps = uploadFilesStep(inputId, outputId);\n",
              "  const outputElement = document.getElementById(outputId);\n",
              "  // Cache steps on the outputElement to make it available for the next call\n",
              "  // to uploadFilesContinue from Python.\n",
              "  outputElement.steps = steps;\n",
              "\n",
              "  return _uploadFilesContinue(outputId);\n",
              "}\n",
              "\n",
              "// This is roughly an async generator (not supported in the browser yet),\n",
              "// where there are multiple asynchronous steps and the Python side is going\n",
              "// to poll for completion of each step.\n",
              "// This uses a Promise to block the python side on completion of each step,\n",
              "// then passes the result of the previous step as the input to the next step.\n",
              "function _uploadFilesContinue(outputId) {\n",
              "  const outputElement = document.getElementById(outputId);\n",
              "  const steps = outputElement.steps;\n",
              "\n",
              "  const next = steps.next(outputElement.lastPromiseValue);\n",
              "  return Promise.resolve(next.value.promise).then((value) => {\n",
              "    // Cache the last promise value to make it available to the next\n",
              "    // step of the generator.\n",
              "    outputElement.lastPromiseValue = value;\n",
              "    return next.value.response;\n",
              "  });\n",
              "}\n",
              "\n",
              "/**\n",
              " * Generator function which is called between each async step of the upload\n",
              " * process.\n",
              " * @param {string} inputId Element ID of the input file picker element.\n",
              " * @param {string} outputId Element ID of the output display.\n",
              " * @return {!Iterable<!Object>} Iterable of next steps.\n",
              " */\n",
              "function* uploadFilesStep(inputId, outputId) {\n",
              "  const inputElement = document.getElementById(inputId);\n",
              "  inputElement.disabled = false;\n",
              "\n",
              "  const outputElement = document.getElementById(outputId);\n",
              "  outputElement.innerHTML = '';\n",
              "\n",
              "  const pickedPromise = new Promise((resolve) => {\n",
              "    inputElement.addEventListener('change', (e) => {\n",
              "      resolve(e.target.files);\n",
              "    });\n",
              "  });\n",
              "\n",
              "  const cancel = document.createElement('button');\n",
              "  inputElement.parentElement.appendChild(cancel);\n",
              "  cancel.textContent = 'Cancel upload';\n",
              "  const cancelPromise = new Promise((resolve) => {\n",
              "    cancel.onclick = () => {\n",
              "      resolve(null);\n",
              "    };\n",
              "  });\n",
              "\n",
              "  // Wait for the user to pick the files.\n",
              "  const files = yield {\n",
              "    promise: Promise.race([pickedPromise, cancelPromise]),\n",
              "    response: {\n",
              "      action: 'starting',\n",
              "    }\n",
              "  };\n",
              "\n",
              "  cancel.remove();\n",
              "\n",
              "  // Disable the input element since further picks are not allowed.\n",
              "  inputElement.disabled = true;\n",
              "\n",
              "  if (!files) {\n",
              "    return {\n",
              "      response: {\n",
              "        action: 'complete',\n",
              "      }\n",
              "    };\n",
              "  }\n",
              "\n",
              "  for (const file of files) {\n",
              "    const li = document.createElement('li');\n",
              "    li.append(span(file.name, {fontWeight: 'bold'}));\n",
              "    li.append(span(\n",
              "        `(${file.type || 'n/a'}) - ${file.size} bytes, ` +\n",
              "        `last modified: ${\n",
              "            file.lastModifiedDate ? file.lastModifiedDate.toLocaleDateString() :\n",
              "                                    'n/a'} - `));\n",
              "    const percent = span('0% done');\n",
              "    li.appendChild(percent);\n",
              "\n",
              "    outputElement.appendChild(li);\n",
              "\n",
              "    const fileDataPromise = new Promise((resolve) => {\n",
              "      const reader = new FileReader();\n",
              "      reader.onload = (e) => {\n",
              "        resolve(e.target.result);\n",
              "      };\n",
              "      reader.readAsArrayBuffer(file);\n",
              "    });\n",
              "    // Wait for the data to be ready.\n",
              "    let fileData = yield {\n",
              "      promise: fileDataPromise,\n",
              "      response: {\n",
              "        action: 'continue',\n",
              "      }\n",
              "    };\n",
              "\n",
              "    // Use a chunked sending to avoid message size limits. See b/62115660.\n",
              "    let position = 0;\n",
              "    do {\n",
              "      const length = Math.min(fileData.byteLength - position, MAX_PAYLOAD_SIZE);\n",
              "      const chunk = new Uint8Array(fileData, position, length);\n",
              "      position += length;\n",
              "\n",
              "      const base64 = btoa(String.fromCharCode.apply(null, chunk));\n",
              "      yield {\n",
              "        response: {\n",
              "          action: 'append',\n",
              "          file: file.name,\n",
              "          data: base64,\n",
              "        },\n",
              "      };\n",
              "\n",
              "      let percentDone = fileData.byteLength === 0 ?\n",
              "          100 :\n",
              "          Math.round((position / fileData.byteLength) * 100);\n",
              "      percent.textContent = `${percentDone}% done`;\n",
              "\n",
              "    } while (position < fileData.byteLength);\n",
              "  }\n",
              "\n",
              "  // All done.\n",
              "  yield {\n",
              "    response: {\n",
              "      action: 'complete',\n",
              "    }\n",
              "  };\n",
              "}\n",
              "\n",
              "scope.google = scope.google || {};\n",
              "scope.google.colab = scope.google.colab || {};\n",
              "scope.google.colab._files = {\n",
              "  _uploadFiles,\n",
              "  _uploadFilesContinue,\n",
              "};\n",
              "})(self);\n",
              "</script> "
            ]
          },
          "metadata": {}
        },
        {
          "output_type": "stream",
          "name": "stdout",
          "text": [
            "Saving book1.csv to book1 (1).csv\n"
          ]
        }
      ],
      "source": [
        "lyrics_file = files.upload()"
      ]
    },
    {
      "cell_type": "code",
      "execution_count": null,
      "metadata": {
        "id": "QIIrszd5P-Du"
      },
      "outputs": [],
      "source": [
        "# Reading the data\n",
        "data = pd.read_csv('book1.csv')"
      ]
    },
    {
      "cell_type": "code",
      "execution_count": null,
      "metadata": {
        "id": "ajGEiRRpQJhu"
      },
      "outputs": [],
      "source": [
        "# Removing unwanted characters and digits from the text\n",
        "data['lyrics'] = data['lyrics'].apply(lambda x: re.sub('[^a-zA-Z\\u0900-\\u097F]+', ' ', str(x)))\n",
        "data['lyrics'] = data['lyrics'].apply(lambda x: re.sub('\\d+', ' ', str(x)))"
      ]
    },
    {
      "cell_type": "code",
      "execution_count": null,
      "metadata": {
        "id": "mkWjB4U7hpbB"
      },
      "outputs": [],
      "source": [
        "# Tokenizing the data\n",
        "tokenizer = Tokenizer(num_words=5000, split=' ')\n",
        "tokenizer.fit_on_texts(data['lyrics'].values)\n",
        "X = tokenizer.texts_to_sequences(data['lyrics'].values)\n",
        "X = pad_sequences(X)\n",
        "y = data['status'].values"
      ]
    },
    {
      "cell_type": "code",
      "execution_count": null,
      "metadata": {
        "id": "EUkCYhlRhyt2"
      },
      "outputs": [],
      "source": [
        "# Splitting the data into training and testing sets\n",
        "from sklearn.model_selection import train_test_split\n",
        "X_train, X_test, y_train, y_test = train_test_split(X, y, test_size=0.2, random_state=42)"
      ]
    },
    {
      "cell_type": "code",
      "execution_count": null,
      "metadata": {
        "id": "GEv24m_p7SbU"
      },
      "outputs": [],
      "source": [
        "# Replace missing values with a default value\n",
        "default_value = 0\n",
        "y_train = pd.Series(y_train).fillna(default_value).values\n",
        "y_test = pd.Series(y_test).fillna(default_value).values\n",
        "\n",
        "# Convert boolean values to integers\n",
        "y_train = y_train.astype(int)\n",
        "y_test = y_test.astype(int)"
      ]
    },
    {
      "cell_type": "code",
      "execution_count": null,
      "metadata": {
        "id": "s9HLydBQh0nk"
      },
      "outputs": [],
      "source": [
        "# Creating the model\n",
        "model = Sequential()\n",
        "model.add(Embedding(5000, 128, input_length=X.shape[1]))\n",
        "model.add(LSTM(units=128, dropout=0.2, recurrent_dropout=0.2))\n",
        "model.add(Dense(1, activation='sigmoid'))\n",
        "model.compile(loss='binary_crossentropy', optimizer='adam', metrics=['accuracy'])"
      ]
    },
    {
      "cell_type": "code",
      "execution_count": null,
      "metadata": {
        "colab": {
          "base_uri": "https://localhost:8080/"
        },
        "id": "YO_0KtcPdCnJ",
        "outputId": "0343f103-943b-4086-8af9-9380bb092183"
      },
      "outputs": [
        {
          "output_type": "stream",
          "name": "stdout",
          "text": [
            "Epoch 1/15\n",
            "20/20 [==============================] - 57s 3s/step - loss: 0.5875 - accuracy: 0.7668\n",
            "Epoch 2/15\n",
            "20/20 [==============================] - 51s 3s/step - loss: 0.4106 - accuracy: 0.7947\n",
            "Epoch 3/15\n",
            "20/20 [==============================] - 51s 3s/step - loss: 0.2492 - accuracy: 0.8900\n",
            "Epoch 4/15\n",
            "20/20 [==============================] - 52s 3s/step - loss: 0.0985 - accuracy: 0.9672\n",
            "Epoch 5/15\n",
            "20/20 [==============================] - 51s 3s/step - loss: 0.0430 - accuracy: 0.9852\n",
            "Epoch 6/15\n",
            "20/20 [==============================] - 52s 3s/step - loss: 0.0340 - accuracy: 0.9918\n",
            "Epoch 7/15\n",
            "20/20 [==============================] - 52s 3s/step - loss: 0.0358 - accuracy: 0.9869\n",
            "Epoch 8/15\n",
            "20/20 [==============================] - 52s 3s/step - loss: 0.0235 - accuracy: 0.9918\n",
            "Epoch 9/15\n",
            "20/20 [==============================] - 52s 3s/step - loss: 0.0264 - accuracy: 0.9885\n",
            "Epoch 10/15\n",
            "20/20 [==============================] - 52s 3s/step - loss: 0.0223 - accuracy: 0.9918\n",
            "Epoch 11/15\n",
            "20/20 [==============================] - 53s 3s/step - loss: 0.0199 - accuracy: 0.9901\n",
            "Epoch 12/15\n",
            "20/20 [==============================] - 52s 3s/step - loss: 0.0269 - accuracy: 0.9885\n",
            "Epoch 13/15\n",
            "20/20 [==============================] - 52s 3s/step - loss: 0.0881 - accuracy: 0.9803\n",
            "Epoch 14/15\n",
            "20/20 [==============================] - 52s 3s/step - loss: 0.0344 - accuracy: 0.9885\n",
            "Epoch 15/15\n",
            "20/20 [==============================] - 51s 3s/step - loss: 0.0583 - accuracy: 0.9819\n"
          ]
        },
        {
          "output_type": "execute_result",
          "data": {
            "text/plain": [
              "<keras.callbacks.History at 0x7fdc6d183520>"
            ]
          },
          "metadata": {},
          "execution_count": 25
        }
      ],
      "source": [
        "# Define the custom threshold value\n",
        "threshold = 0.2\n",
        "\n",
        "# Train the LSTM model\n",
        "model.fit(X_train, y_train, epochs=15, batch_size=32)\n",
        "\n"
      ]
    },
    {
      "cell_type": "code",
      "execution_count": null,
      "metadata": {
        "colab": {
          "base_uri": "https://localhost:8080/"
        },
        "id": "hDrDlnR4d8iS",
        "outputId": "0cb4ec0a-bea7-4684-9e2c-aa5ea24b8418"
      },
      "outputs": [
        {
          "output_type": "stream",
          "name": "stdout",
          "text": [
            "5/5 [==============================] - 2s 268ms/step\n",
            "Accuracy:  0.8104575163398693\n",
            "F1 Score:  0.4912280701754386\n",
            "Precision:  0.45161290322580644\n",
            "Recall:  0.5384615384615384\n"
          ]
        }
      ],
      "source": [
        "# Predict probabilities for the test set\n",
        "y_pred_prob = model.predict(X_test)\n",
        "\n",
        "# Convert probabilities to binary predictions using the custom threshold\n",
        "y_pred = (y_pred_prob >= threshold).astype(int)\n",
        "\n",
        "# Calculate the accuracy, F1 score, precision, and recall for the custom threshold value\n",
        "accuracy = accuracy_score(y_test, y_pred)\n",
        "f1_score_val = f1_score(y_test, y_pred)\n",
        "precision = precision_score(y_test, y_pred)\n",
        "recall = recall_score(y_test, y_pred)\n",
        "\n",
        "# Print the evaluation metrics\n",
        "print(\"Accuracy: \", accuracy)\n",
        "print(\"F1 Score: \", f1_score_val)\n",
        "print(\"Precision: \", precision)\n",
        "print(\"Recall: \", recall)"
      ]
    },
    {
      "cell_type": "code",
      "execution_count": null,
      "metadata": {
        "id": "DtjFYz2gisCs"
      },
      "outputs": [],
      "source": [
        "# Function to predict the explicitness of user input lyric\n",
        "def predict_explicitness(lyric, threshold):\n",
        "    # Preprocess the input lyric\n",
        "    lyric = re.sub('[^a-zA-Z\\u0900-\\u097F]+', ' ', lyric)\n",
        "    lyric = re.sub('\\d+', ' ', lyric)\n",
        "    lyric = lyric.lower()\n",
        "\n",
        "    # Tokenize and pad the input lyric\n",
        "    lyric_X = tokenizer.texts_to_sequences([lyric])\n",
        "    lyric_X = pad_sequences(lyric_X, maxlen=X.shape[1])\n",
        "\n",
        "    # Predict the explicitness of the input lyric\n",
        "    prediction = model.predict(lyric_X)[0][0]\n",
        "    if prediction > threshold:\n",
        "        return 'Explicit'\n",
        "    else:\n",
        "        return 'Not explicit'\n"
      ]
    },
    {
      "cell_type": "code",
      "source": [
        "# Test the model with user input\n",
        "lyric = input('Enter a Hindi music lyric to check its explicitness: ')\n",
        "threshold = 0.2\n",
        "print(predict_explicitness(lyric, threshold))"
      ],
      "metadata": {
        "colab": {
          "base_uri": "https://localhost:8080/"
        },
        "id": "H_yYqu2CqKjJ",
        "outputId": "2cb457ca-2334-415a-f615-be7297f7ffc9"
      },
      "execution_count": null,
      "outputs": [
        {
          "output_type": "stream",
          "name": "stdout",
          "text": [
            "Enter a Hindi music lyric to check its explicitness: कौन बोला मुझसे ना हो पायेगा कौन बोला\n",
            "1/1 [==============================] - 0s 274ms/step\n",
            "Not explicit\n"
          ]
        }
      ]
    }
  ],
  "metadata": {
    "colab": {
      "provenance": [],
      "authorship_tag": "ABX9TyNA2ehOniAGyB2R+EKyzFdP"
    },
    "kernelspec": {
      "display_name": "Python 3",
      "name": "python3"
    },
    "language_info": {
      "name": "python"
    }
  },
  "nbformat": 4,
  "nbformat_minor": 0
}